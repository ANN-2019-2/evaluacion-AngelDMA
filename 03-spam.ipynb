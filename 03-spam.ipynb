{
  "nbformat": 4,
  "nbformat_minor": 0,
  "metadata": {
    "colab": {
      "name": "03-spam.ipynb",
      "provenance": [],
      "collapsed_sections": []
    },
    "kernelspec": {
      "display_name": "Python 3",
      "language": "python",
      "name": "python3"
    },
    "language_info": {
      "codemirror_mode": {
        "name": "ipython",
        "version": 3
      },
      "file_extension": ".py",
      "mimetype": "text/x-python",
      "name": "python",
      "nbconvert_exporter": "python",
      "pygments_lexer": "ipython3",
      "version": "3.6.7"
    }
  },
  "cells": [
    {
      "cell_type": "code",
      "metadata": {
        "colab_type": "code",
        "id": "n3lnWjvI83ix",
        "colab": {}
      },
      "source": [
        "# Filtado de mensajes spam"
      ],
      "execution_count": 0,
      "outputs": []
    },
    {
      "cell_type": "markdown",
      "metadata": {
        "id": "bzEnYpNQFv8R",
        "colab_type": "text"
      },
      "source": [
        "## Descripción del problema real"
      ]
    },
    {
      "cell_type": "markdown",
      "metadata": {
        "id": "zJw9V4f1Fv8S",
        "colab_type": "text"
      },
      "source": [
        "La recepción de publicidad no deseada a traves mensajes de texto usando SMS (Short Message Service) es un problema que afecta a muchos usuarios de teléfonos móviles. El problema radica en que los usuarios deben pagar por los mesajes recibidos, y por este motivo resulta muy importante que las compañías prestadoras del servicio puedan filtrar mensajes indeseados antes de enviarlos a su destinatario final. Los mensajes tienen una longitud máxima de 160 caracteres, por lo que el texto resulta poco para realizar la clasificación, en comparación con textos más largos (como los emails). Adicionalmente, los errores de digitación dificultan el proceso de detección automática."
      ]
    },
    {
      "cell_type": "markdown",
      "metadata": {
        "id": "53CDPqPQFv8T",
        "colab_type": "text"
      },
      "source": [
        "## Descripción del problema en términos de los datos"
      ]
    },
    {
      "cell_type": "markdown",
      "metadata": {
        "id": "vcQJ_ypiFv8V",
        "colab_type": "text"
      },
      "source": [
        "Se tiene una muestra contiene 5574 mensajes en inglés, no codificados y clasificados como legítimos (ham) o spam (http://www.dt.fee.unicamp.br/~tiago/smsspamcollection/). La información está almacenada en el archivo `datos/spam-sms.zip`.El problema en términos de los datos consiste en clasificar si un mensaje SMS es legítico o spam, a partir del análisis de las palabras que contiente, partiendo del supuesto de que ciertas palabras que son más frecuentes dependiendo del tipo de mensaje. Esto implica que en la fase de preparación de los datos se deben extraer las palabras que contiene cada mensaje para poder realizar el análsis."
      ]
    },
    {
      "cell_type": "markdown",
      "metadata": {
        "id": "II5HJqFSFv8W",
        "colab_type": "text"
      },
      "source": [
        "## Aproximaciones posibles"
      ]
    },
    {
      "cell_type": "markdown",
      "metadata": {
        "id": "VDJFfdR-Fv8X",
        "colab_type": "text"
      },
      "source": [
        "En este caso, se desea comparar los resultados de un modelo de redes neuronales artificiales y otras técnicas estadísticas para realizar la clasificación."
      ]
    },
    {
      "cell_type": "markdown",
      "metadata": {
        "id": "Pf8JxpwhFv8Y",
        "colab_type": "text"
      },
      "source": [
        "## Requerimientos"
      ]
    },
    {
      "cell_type": "markdown",
      "metadata": {
        "id": "IYw6uJUaFv8Z",
        "colab_type": "text"
      },
      "source": [
        "Usted debe:\n",
        "\n",
        "* Preprocesar los datos para representarlos usando bag-of-words.\n",
        "\n",
        "\n",
        "* Construir un modelo de regresión logística como punto base para la comparación con otros modelos más complejos.\n",
        "\n",
        "\n",
        "* Construir un modelo de redes neuronales artificiales. Asimismo, debe determinar el número de neuronas en la capa o capas ocultas.\n",
        "\n",
        "\n",
        "* Utiizar una técnica como crossvalidation u otra similar para establecer la robustez del modelo.\n",
        "\n",
        "\n",
        "* Presentar métricas de desempeño para establecer las bondades y falencias de cada clasificador."
      ]
    },
    {
      "cell_type": "markdown",
      "metadata": {
        "id": "GwrBDTs2Hfk0",
        "colab_type": "text"
      },
      "source": [
        "# Preparación"
      ]
    },
    {
      "cell_type": "code",
      "metadata": {
        "id": "C37c6ao-GzY0",
        "colab_type": "code",
        "colab": {
          "base_uri": "https://localhost:8080/",
          "height": 51
        },
        "outputId": "27e8311e-ab3c-4870-92d0-d213309fe6e4"
      },
      "source": [
        "import pandas as pd\n",
        "import numpy as np\n",
        "import seaborn as sns\n",
        "import matplotlib.pyplot as plt\n",
        "from nltk.stem.porter import PorterStemmer\n",
        "\n",
        "\n",
        "from sklearn.linear_model import LogisticRegression\n",
        "from sklearn.metrics import log_loss\n",
        "from sklearn.metrics import confusion_matrix \n",
        "from sklearn.metrics import accuracy_score \n",
        "from sklearn.metrics import classification_report \n",
        "from sklearn.metrics import plot_confusion_matrix\n",
        "from sklearn.model_selection import KFold\n",
        "from sklearn.neural_network import MLPClassifier\n",
        "\n",
        "from plotnine import *\n",
        "\n",
        "%matplotlib inline\n",
        "%load_ext rpy2.ipython"
      ],
      "execution_count": 117,
      "outputs": [
        {
          "output_type": "stream",
          "text": [
            "The rpy2.ipython extension is already loaded. To reload it, use:\n",
            "  %reload_ext rpy2.ipython\n"
          ],
          "name": "stdout"
        }
      ]
    },
    {
      "cell_type": "markdown",
      "metadata": {
        "id": "gddtrDltHiSU",
        "colab_type": "text"
      },
      "source": [
        "# Carga de datos"
      ]
    },
    {
      "cell_type": "code",
      "metadata": {
        "id": "WGe_3eQsG6ry",
        "colab_type": "code",
        "colab": {
          "base_uri": "https://localhost:8080/",
          "height": 204
        },
        "outputId": "a4bca022-b5c5-4ed0-d9b3-c6dc371864c7"
      },
      "source": [
        "df = pd.read_csv(\n",
        "    \"https://raw.githubusercontent.com/jdvelasq/datalabs/master/datasets/sms-spam.csv\",\n",
        "    sep = ',',\n",
        "    thousands = None,\n",
        "    decimal = '.',\n",
        "    encoding='latin-1')\n",
        "\n",
        "df.head()"
      ],
      "execution_count": 118,
      "outputs": [
        {
          "output_type": "execute_result",
          "data": {
            "text/html": [
              "<div>\n",
              "<style scoped>\n",
              "    .dataframe tbody tr th:only-of-type {\n",
              "        vertical-align: middle;\n",
              "    }\n",
              "\n",
              "    .dataframe tbody tr th {\n",
              "        vertical-align: top;\n",
              "    }\n",
              "\n",
              "    .dataframe thead th {\n",
              "        text-align: right;\n",
              "    }\n",
              "</style>\n",
              "<table border=\"1\" class=\"dataframe\">\n",
              "  <thead>\n",
              "    <tr style=\"text-align: right;\">\n",
              "      <th></th>\n",
              "      <th>type</th>\n",
              "      <th>text</th>\n",
              "    </tr>\n",
              "  </thead>\n",
              "  <tbody>\n",
              "    <tr>\n",
              "      <th>0</th>\n",
              "      <td>ham</td>\n",
              "      <td>Go until jurong point, crazy.. Available only ...</td>\n",
              "    </tr>\n",
              "    <tr>\n",
              "      <th>1</th>\n",
              "      <td>ham</td>\n",
              "      <td>Ok lar... Joking wif u oni...</td>\n",
              "    </tr>\n",
              "    <tr>\n",
              "      <th>2</th>\n",
              "      <td>spam</td>\n",
              "      <td>Free entry in 2 a wkly comp to win FA Cup fina...</td>\n",
              "    </tr>\n",
              "    <tr>\n",
              "      <th>3</th>\n",
              "      <td>ham</td>\n",
              "      <td>U dun say so early hor... U c already then say...</td>\n",
              "    </tr>\n",
              "    <tr>\n",
              "      <th>4</th>\n",
              "      <td>ham</td>\n",
              "      <td>Nah I don't think he goes to usf, he lives aro...</td>\n",
              "    </tr>\n",
              "  </tbody>\n",
              "</table>\n",
              "</div>"
            ],
            "text/plain": [
              "   type                                               text\n",
              "0   ham  Go until jurong point, crazy.. Available only ...\n",
              "1   ham                      Ok lar... Joking wif u oni...\n",
              "2  spam  Free entry in 2 a wkly comp to win FA Cup fina...\n",
              "3   ham  U dun say so early hor... U c already then say...\n",
              "4   ham  Nah I don't think he goes to usf, he lives aro..."
            ]
          },
          "metadata": {
            "tags": []
          },
          "execution_count": 118
        }
      ]
    },
    {
      "cell_type": "code",
      "metadata": {
        "id": "DxXLlqiYHAGC",
        "colab_type": "code",
        "colab": {
          "base_uri": "https://localhost:8080/",
          "height": 173
        },
        "outputId": "3f9f4101-38a0-41de-e131-70b51d4fe42d"
      },
      "source": [
        "\n",
        "##\n",
        "## Verifica la lectura de los datos\n",
        "##\n",
        "df.describe()"
      ],
      "execution_count": 119,
      "outputs": [
        {
          "output_type": "execute_result",
          "data": {
            "text/html": [
              "<div>\n",
              "<style scoped>\n",
              "    .dataframe tbody tr th:only-of-type {\n",
              "        vertical-align: middle;\n",
              "    }\n",
              "\n",
              "    .dataframe tbody tr th {\n",
              "        vertical-align: top;\n",
              "    }\n",
              "\n",
              "    .dataframe thead th {\n",
              "        text-align: right;\n",
              "    }\n",
              "</style>\n",
              "<table border=\"1\" class=\"dataframe\">\n",
              "  <thead>\n",
              "    <tr style=\"text-align: right;\">\n",
              "      <th></th>\n",
              "      <th>type</th>\n",
              "      <th>text</th>\n",
              "    </tr>\n",
              "  </thead>\n",
              "  <tbody>\n",
              "    <tr>\n",
              "      <th>count</th>\n",
              "      <td>5574</td>\n",
              "      <td>5574</td>\n",
              "    </tr>\n",
              "    <tr>\n",
              "      <th>unique</th>\n",
              "      <td>2</td>\n",
              "      <td>5160</td>\n",
              "    </tr>\n",
              "    <tr>\n",
              "      <th>top</th>\n",
              "      <td>ham</td>\n",
              "      <td>Sorry, I'll call later</td>\n",
              "    </tr>\n",
              "    <tr>\n",
              "      <th>freq</th>\n",
              "      <td>4827</td>\n",
              "      <td>30</td>\n",
              "    </tr>\n",
              "  </tbody>\n",
              "</table>\n",
              "</div>"
            ],
            "text/plain": [
              "        type                    text\n",
              "count   5574                    5574\n",
              "unique     2                    5160\n",
              "top      ham  Sorry, I'll call later\n",
              "freq    4827                      30"
            ]
          },
          "metadata": {
            "tags": []
          },
          "execution_count": 119
        }
      ]
    },
    {
      "cell_type": "markdown",
      "metadata": {
        "id": "QKAAUcW0HmnV",
        "colab_type": "text"
      },
      "source": [
        "# Conteo de cantidad de mensaje por tipos"
      ]
    },
    {
      "cell_type": "code",
      "metadata": {
        "id": "5KB320ZxHF6V",
        "colab_type": "code",
        "colab": {
          "base_uri": "https://localhost:8080/",
          "height": 68
        },
        "outputId": "19456f9f-b64d-4b66-fc27-0d7f37dbc19a"
      },
      "source": [
        "## Se obtiene la cantidad de casos para\n",
        "## cada tipo de mensaje.\n",
        "##\n",
        "df.type.value_counts()"
      ],
      "execution_count": 120,
      "outputs": [
        {
          "output_type": "execute_result",
          "data": {
            "text/plain": [
              "ham     4827\n",
              "spam     747\n",
              "Name: type, dtype: int64"
            ]
          },
          "metadata": {
            "tags": []
          },
          "execution_count": 120
        }
      ]
    },
    {
      "cell_type": "code",
      "metadata": {
        "id": "5dyuWGTIHLG6",
        "colab_type": "code",
        "colab": {
          "base_uri": "https://localhost:8080/",
          "height": 284
        },
        "outputId": "54cf686e-78df-4ac3-a769-c38001a58bc5"
      },
      "source": [
        "\n",
        "df.type.value_counts().plot.bar();"
      ],
      "execution_count": 121,
      "outputs": [
        {
          "output_type": "display_data",
          "data": {
            "image/png": "[encoded data removed]",
            "text/plain": [
              "<Figure size 432x288 with 1 Axes>"
            ]
          },
          "metadata": {
            "tags": []
          }
        }
      ]
    },
    {
      "cell_type": "markdown",
      "metadata": {
        "id": "6vZNqKvKItx2",
        "colab_type": "text"
      },
      "source": [
        "# Stemmer"
      ]
    },
    {
      "cell_type": "code",
      "metadata": {
        "id": "ReMtx9pHIvBe",
        "colab_type": "code",
        "colab": {
          "base_uri": "https://localhost:8080/",
          "height": 359
        },
        "outputId": "c0a41b67-77ec-498f-8d96-ef70fff773e1"
      },
      "source": [
        "stemmer = PorterStemmer()\n",
        "\n",
        "df['stemmed'] = df.text.apply(lambda x: ' '.join([stemmer.stem(w) for w in x.split() ]))\n",
        "\n",
        "df.head(10)"
      ],
      "execution_count": 122,
      "outputs": [
        {
          "output_type": "execute_result",
          "data": {
            "text/html": [
              "<div>\n",
              "<style scoped>\n",
              "    .dataframe tbody tr th:only-of-type {\n",
              "        vertical-align: middle;\n",
              "    }\n",
              "\n",
              "    .dataframe tbody tr th {\n",
              "        vertical-align: top;\n",
              "    }\n",
              "\n",
              "    .dataframe thead th {\n",
              "        text-align: right;\n",
              "    }\n",
              "</style>\n",
              "<table border=\"1\" class=\"dataframe\">\n",
              "  <thead>\n",
              "    <tr style=\"text-align: right;\">\n",
              "      <th></th>\n",
              "      <th>type</th>\n",
              "      <th>text</th>\n",
              "      <th>stemmed</th>\n",
              "    </tr>\n",
              "  </thead>\n",
              "  <tbody>\n",
              "    <tr>\n",
              "      <th>0</th>\n",
              "      <td>ham</td>\n",
              "      <td>Go until jurong point, crazy.. Available only ...</td>\n",
              "      <td>Go until jurong point, crazy.. avail onli in b...</td>\n",
              "    </tr>\n",
              "    <tr>\n",
              "      <th>1</th>\n",
              "      <td>ham</td>\n",
              "      <td>Ok lar... Joking wif u oni...</td>\n",
              "      <td>Ok lar... joke wif u oni...</td>\n",
              "    </tr>\n",
              "    <tr>\n",
              "      <th>2</th>\n",
              "      <td>spam</td>\n",
              "      <td>Free entry in 2 a wkly comp to win FA Cup fina...</td>\n",
              "      <td>free entri in 2 a wkli comp to win FA cup fina...</td>\n",
              "    </tr>\n",
              "    <tr>\n",
              "      <th>3</th>\n",
              "      <td>ham</td>\n",
              "      <td>U dun say so early hor... U c already then say...</td>\n",
              "      <td>U dun say so earli hor... U c alreadi then say...</td>\n",
              "    </tr>\n",
              "    <tr>\n",
              "      <th>4</th>\n",
              "      <td>ham</td>\n",
              "      <td>Nah I don't think he goes to usf, he lives aro...</td>\n",
              "      <td>nah I don't think he goe to usf, he live aroun...</td>\n",
              "    </tr>\n",
              "    <tr>\n",
              "      <th>5</th>\n",
              "      <td>spam</td>\n",
              "      <td>FreeMsg Hey there darling it's been 3 week's n...</td>\n",
              "      <td>freemsg hey there darl it' been 3 week' now an...</td>\n",
              "    </tr>\n",
              "    <tr>\n",
              "      <th>6</th>\n",
              "      <td>ham</td>\n",
              "      <td>Even my brother is not like to speak with me. ...</td>\n",
              "      <td>even my brother is not like to speak with me. ...</td>\n",
              "    </tr>\n",
              "    <tr>\n",
              "      <th>7</th>\n",
              "      <td>ham</td>\n",
              "      <td>As per your request 'Melle Melle (Oru Minnamin...</td>\n",
              "      <td>As per your request 'mell mell (oru minnaminun...</td>\n",
              "    </tr>\n",
              "    <tr>\n",
              "      <th>8</th>\n",
              "      <td>spam</td>\n",
              "      <td>WINNER!! As a valued network customer you have...</td>\n",
              "      <td>winner!! As a valu network custom you have bee...</td>\n",
              "    </tr>\n",
              "    <tr>\n",
              "      <th>9</th>\n",
              "      <td>spam</td>\n",
              "      <td>Had your mobile 11 months or more? U R entitle...</td>\n",
              "      <td>had your mobil 11 month or more? U R entitl to...</td>\n",
              "    </tr>\n",
              "  </tbody>\n",
              "</table>\n",
              "</div>"
            ],
            "text/plain": [
              "   type  ...                                            stemmed\n",
              "0   ham  ...  Go until jurong point, crazy.. avail onli in b...\n",
              "1   ham  ...                        Ok lar... joke wif u oni...\n",
              "2  spam  ...  free entri in 2 a wkli comp to win FA cup fina...\n",
              "3   ham  ...  U dun say so earli hor... U c alreadi then say...\n",
              "4   ham  ...  nah I don't think he goe to usf, he live aroun...\n",
              "5  spam  ...  freemsg hey there darl it' been 3 week' now an...\n",
              "6   ham  ...  even my brother is not like to speak with me. ...\n",
              "7   ham  ...  As per your request 'mell mell (oru minnaminun...\n",
              "8  spam  ...  winner!! As a valu network custom you have bee...\n",
              "9  spam  ...  had your mobil 11 month or more? U R entitl to...\n",
              "\n",
              "[10 rows x 3 columns]"
            ]
          },
          "metadata": {
            "tags": []
          },
          "execution_count": 122
        }
      ]
    },
    {
      "cell_type": "markdown",
      "metadata": {
        "id": "qgVFJEB7JILV",
        "colab_type": "text"
      },
      "source": [
        "# Matriz de términos del documento"
      ]
    },
    {
      "cell_type": "code",
      "metadata": {
        "id": "OnEfHu6QJKWt",
        "colab_type": "code",
        "colab": {
          "base_uri": "https://localhost:8080/",
          "height": 34
        },
        "outputId": "d8a490f7-19f0-45d2-cfdc-b529979bad5a"
      },
      "source": [
        "##\n",
        "## Matriz de términos del documento en Python\n",
        "##\n",
        "from sklearn.feature_extraction.text import CountVectorizer\n",
        "\n",
        "count_vect = CountVectorizer(\n",
        "    analyzer='word',        # a nivel de palabra\n",
        "    lowercase=True,         # convierte a minúsculas\n",
        "    stop_words='english',   # stop_words en inglés\n",
        "    binary=True,            # Los valores distintos de cero son fijados en 1\n",
        "    min_df=5                # ignora palabras con baja freq\n",
        ")\n",
        "\n",
        "\n",
        "##\n",
        "## Aplica la función al texto\n",
        "##\n",
        "dtm = count_vect.fit_transform(df.stemmed)\n",
        "\n",
        "##\n",
        "## Las filas contienen los mensajes\n",
        "## y las clomunas los términos\n",
        "##\n",
        "dtm.shape"
      ],
      "execution_count": 123,
      "outputs": [
        {
          "output_type": "execute_result",
          "data": {
            "text/plain": [
              "(5574, 1540)"
            ]
          },
          "metadata": {
            "tags": []
          },
          "execution_count": 123
        }
      ]
    },
    {
      "cell_type": "code",
      "metadata": {
        "id": "IzWf3JDyJOxv",
        "colab_type": "code",
        "colab": {
          "base_uri": "https://localhost:8080/",
          "height": 34
        },
        "outputId": "d29eda8a-7e33-4bda-ad28-2d4034d107d1"
      },
      "source": [
        "##\n",
        "## Palabras aprendidas de los mensajes de texto\n",
        "##\n",
        "vocabulary = count_vect.get_feature_names()\n",
        "len(vocabulary)"
      ],
      "execution_count": 124,
      "outputs": [
        {
          "output_type": "execute_result",
          "data": {
            "text/plain": [
              "1540"
            ]
          },
          "metadata": {
            "tags": []
          },
          "execution_count": 124
        }
      ]
    },
    {
      "cell_type": "code",
      "metadata": {
        "id": "Du4cnOewJhbv",
        "colab_type": "code",
        "colab": {
          "base_uri": "https://localhost:8080/",
          "height": 187
        },
        "outputId": "0ff65890-71d6-4488-9c81-1f504d2ad53e"
      },
      "source": [
        "##\n",
        "## Primeras palabras del vocabulario\n",
        "##\n",
        "vocabulary[0:10]"
      ],
      "execution_count": 125,
      "outputs": [
        {
          "output_type": "execute_result",
          "data": {
            "text/plain": [
              "['00',\n",
              " '000',\n",
              " '02',\n",
              " '03',\n",
              " '04',\n",
              " '06',\n",
              " '0800',\n",
              " '08000839402',\n",
              " '08000930705',\n",
              " '0870']"
            ]
          },
          "metadata": {
            "tags": []
          },
          "execution_count": 125
        }
      ]
    },
    {
      "cell_type": "code",
      "metadata": {
        "id": "_ozrUmrfKs0E",
        "colab_type": "code",
        "colab": {
          "base_uri": "https://localhost:8080/",
          "height": 598
        },
        "outputId": "42e21584-e2b1-4f89-df24-3776868e36fb"
      },
      "source": [
        "##\n",
        "## Recupera los mensajes de la dtm\n",
        "##\n",
        "def dtm2words(dtm, vocabulary, index):\n",
        "    as_list = dtm[index,:].toarray().tolist()\n",
        "    docs = []\n",
        "    for i in index:\n",
        "        k = [vocabulary[iword] for iword, ifreq in enumerate(as_list[i]) if ifreq > 0]\n",
        "        docs += [k]\n",
        "    return docs\n",
        "\n",
        "for i, x in enumerate(dtm2words(dtm, vocabulary, [0, 1, 2, 3, 4, 5, 6, 7, 8, 9, 10])):\n",
        "    print('Org: ', df.text[i])\n",
        "    print('Mod: ', ' '.join(x))\n",
        "    print('')"
      ],
      "execution_count": 126,
      "outputs": [
        {
          "output_type": "stream",
          "text": [
            "Org:  Go until jurong point, crazy.. Available only in bugis n great world la e buffet... Cine there got amore wat...\n",
            "Mod:  avail bugi cine got great la onli point wat world\n",
            "\n",
            "Org:  Ok lar... Joking wif u oni...\n",
            "Mod:  joke lar ok wif\n",
            "\n",
            "Org:  Free entry in 2 a wkly comp to win FA Cup final tkts 21st May 2005. Text FA to 87121 to receive entry question(std txt rate)T&C's apply 08452810075over18's\n",
            "Mod:  appli comp cup entri final free question rate receiv std text txt win wkli\n",
            "\n",
            "Org:  U dun say so early hor... U c already then say...\n",
            "Mod:  alreadi dun earli say\n",
            "\n",
            "Org:  Nah I don't think he goes to usf, he lives around here though\n",
            "Mod:  don goe live nah think usf\n",
            "\n",
            "Org:  FreeMsg Hey there darling it's been 3 week's now and no word back! I'd like some fun you up for it still? Tb ok! XxX std chgs to send, Â£1.50 to rcv\n",
            "Mod:  50 darl freemsg fun hey like ok send std week word xxx\n",
            "\n",
            "Org:  Even my brother is not like to speak with me. They treat me like aids patent.\n",
            "Mod:  brother like speak treat\n",
            "\n",
            "Org:  As per your request 'Melle Melle (Oru Minnaminunginte Nurungu Vettam)' has been set as your callertune for all Callers. Press *9 to copy your friends Callertune\n",
            "Mod:  callers callertun copi friend ha press request set\n",
            "\n",
            "Org:  WINNER!! As a valued network customer you have been selected to receivea Â£900 prize reward! To claim call 09061701461. Claim code KL341. Valid 12 hours only.\n",
            "Mod:  12 900 claim code custom hour network prize reward select valid valu winner\n",
            "\n",
            "Org:  Had your mobile 11 months or more? U R entitled to Update to the latest colour mobiles with camera for Free! Call The Mobile Update Co FREE on 08002986030\n",
            "Mod:  11 camera colour entitl free latest mobil month updat\n",
            "\n",
            "Org:  I'm gonna be home soon and i don't want to talk about this stuff anymore tonight, k? I've cried enough today.\n",
            "Mod:  don gonna home soon stuff talk thi today tonight want\n",
            "\n"
          ],
          "name": "stdout"
        }
      ]
    },
    {
      "cell_type": "markdown",
      "metadata": {
        "id": "XAffegv5K6nr",
        "colab_type": "text"
      },
      "source": [
        "# Conjuntos de entrenamiento y prueba"
      ]
    },
    {
      "cell_type": "code",
      "metadata": {
        "id": "g4y6ObvsK9dK",
        "colab_type": "code",
        "colab": {}
      },
      "source": [
        "##\n",
        "## Creación de los conjuntos de entrenamiento y prueba.\n",
        "##\n",
        "X_train      = dtm[0:4168,]\n",
        "X_validacion       = dtm[4169:,]\n",
        "y_train= df.type[0:4168]\n",
        "y_validacion  = df.type[4169:]"
      ],
      "execution_count": 0,
      "outputs": []
    },
    {
      "cell_type": "markdown",
      "metadata": {
        "id": "G9nmUL18LEDr",
        "colab_type": "text"
      },
      "source": [
        "# Entrenamiento de modelos de regresión logística"
      ]
    },
    {
      "cell_type": "code",
      "metadata": {
        "id": "i0Zq2_o-LIN0",
        "colab_type": "code",
        "colab": {}
      },
      "source": [
        "logisticRegression1 = LogisticRegression(\n",
        "    penalty='none',            # ‘l1’, ‘l2’, ‘elasticnet’, ‘none’\n",
        "    tol=0.0001,              # stop criteria\n",
        "    C=1.0,                   # factor inverso para regularizacion (SVM)\n",
        "    fit_intercept=True,      #\n",
        "    class_weight=None,       # None, dict or ‘balanced’\n",
        "    random_state=None,       #\n",
        "    solver='sag',           # 'newton-cg’, ‘lbfgs’, ‘liblinear’, ‘sag’, ‘saga’\n",
        "    max_iter=5000,            #\n",
        "    multi_class='auto',      # ‘ovr’, ‘multinomial’, ‘auto’\n",
        "    verbose=0,               #\n",
        "    warm_start=False,        # ?re-usa la solución previa\n",
        "    l1_ratio=None            # Elastic-Net mixing parameter, with 0 <= l1_ratio <= 1\n",
        ")\n",
        "\n",
        "logisticRegression2 = LogisticRegression(\n",
        "    penalty='l2',            # ‘l1’, ‘l2’, ‘elasticnet’, ‘none’\n",
        "    tol=0.0001,              # stop criteria\n",
        "    C=1.0,                   # factor inverso para regularizacion (SVM)\n",
        "    fit_intercept=True,      #\n",
        "    class_weight=None,       # None, dict or ‘balanced’\n",
        "    random_state=None,       #\n",
        "    solver='lbfgs',           # 'newton-cg’, ‘lbfgs’, ‘liblinear’, ‘sag’, ‘saga’\n",
        "    max_iter=100,            #\n",
        "    multi_class='auto',      # ‘ovr’, ‘multinomial’, ‘auto’\n",
        "    verbose=0,               #\n",
        "    warm_start=False,        # ?re-usa la solución previa\n",
        "    l1_ratio=None            # Elastic-Net mixing parameter, with 0 <= l1_ratio <= 1\n",
        ")\n",
        "\n",
        "logisticRegression1.fit(X_train.toarray(), y_train)\n",
        "y_test_pred1 = logisticRegression1.predict(X_validacion.toarray())\n",
        "\n",
        "logisticRegression2.fit(X_train.toarray(), y_train)\n",
        "y_test_pred2 = logisticRegression2.predict(X_validacion.toarray())"
      ],
      "execution_count": 0,
      "outputs": []
    },
    {
      "cell_type": "markdown",
      "metadata": {
        "id": "NovjxzxmNPPj",
        "colab_type": "text"
      },
      "source": [
        "# Evaluación de los modelos de regresión logística"
      ]
    },
    {
      "cell_type": "code",
      "metadata": {
        "id": "GqI_8zy-QlX9",
        "colab_type": "code",
        "colab": {
          "base_uri": "https://localhost:8080/",
          "height": 516
        },
        "outputId": "b71d0885-a389-4074-e0a8-a4bda3a9ea69"
      },
      "source": [
        "disp = plot_confusion_matrix(logisticRegression1, X_validacion.toarray(), y_validacion,\n",
        "                              display_labels=['ham','spam'],\n",
        "                              cmap=plt.cm.Greens,\n",
        "                              normalize=None, \n",
        "                              values_format = '.0f')\n",
        "disp.ax_.set_title('Matriz de la confusión')\n",
        "\n",
        "print(\"Primer modelo de regresión logística: \\n\")\n",
        "print ('Accuracy Score :',accuracy_score(y_validacion, y_test_pred1)) \n",
        "print ('Report : ')\n",
        "print (classification_report(y_validacion, y_test_pred1)) "
      ],
      "execution_count": 130,
      "outputs": [
        {
          "output_type": "stream",
          "text": [
            "Primer modelo de regresión logística: \n",
            "\n",
            "Accuracy Score : 0.9750889679715302\n",
            "Report : \n",
            "              precision    recall  f1-score   support\n",
            "\n",
            "         ham       0.98      0.99      0.99      1222\n",
            "        spam       0.92      0.89      0.90       183\n",
            "\n",
            "    accuracy                           0.98      1405\n",
            "   macro avg       0.95      0.94      0.94      1405\n",
            "weighted avg       0.97      0.98      0.97      1405\n",
            "\n"
          ],
          "name": "stdout"
        },
        {
          "output_type": "display_data",
          "data": {
            "image/png": "[encoded data removed]",
            "text/plain": [
              "<Figure size 432x288 with 2 Axes>"
            ]
          },
          "metadata": {
            "tags": []
          }
        }
      ]
    },
    {
      "cell_type": "code",
      "metadata": {
        "id": "TZOrNZSsnfcq",
        "colab_type": "code",
        "colab": {
          "base_uri": "https://localhost:8080/",
          "height": 516
        },
        "outputId": "20674e9e-f10b-4798-8140-ac5da8afdaaa"
      },
      "source": [
        "disp = plot_confusion_matrix(logisticRegression2, X_validacion.toarray(), y_validacion,\n",
        "                              display_labels=['ham','spam'],\n",
        "                              cmap=plt.cm.Greens,\n",
        "                              normalize=None, \n",
        "                              values_format = '.0f')\n",
        "disp.ax_.set_title('Matriz de la confusión')\n",
        "\n",
        "print(\"Segundo modelo de regresión logística: \\n\")\n",
        "print ('Accuracy Score :',accuracy_score(y_validacion, y_test_pred2)) \n",
        "print ('Report : ')\n",
        "print (classification_report(y_validacion, y_test_pred2)) "
      ],
      "execution_count": 131,
      "outputs": [
        {
          "output_type": "stream",
          "text": [
            "Segundo modelo de regresión logística: \n",
            "\n",
            "Accuracy Score : 0.9807829181494662\n",
            "Report : \n",
            "              precision    recall  f1-score   support\n",
            "\n",
            "         ham       0.98      1.00      0.99      1222\n",
            "        spam       0.99      0.86      0.92       183\n",
            "\n",
            "    accuracy                           0.98      1405\n",
            "   macro avg       0.99      0.93      0.95      1405\n",
            "weighted avg       0.98      0.98      0.98      1405\n",
            "\n"
          ],
          "name": "stdout"
        },
        {
          "output_type": "display_data",
          "data": {
            "image/png": "[encoded data removed]",
            "text/plain": [
              "<Figure size 432x288 with 2 Axes>"
            ]
          },
          "metadata": {
            "tags": []
          }
        }
      ]
    },
    {
      "cell_type": "markdown",
      "metadata": {
        "id": "EZ5mJzy_ntpW",
        "colab_type": "text"
      },
      "source": [
        "En el primer modelo planteado se le da más importancia al recall de spam para que este sea mayor, con este modelo se intenta minimizar que le lleguen mensajes al usuario que sean spam, con el riesgo de que puede evitar que le lleguen mensajes que no eran spam.\n",
        "\n",
        "En cambio en el segundo modelo se le da más importancia a que le lleguen al usuario la mayor cantidad de mensajes que no son spam, teniendo como contra que puede dejar pasar una mayor cantidad de spam que el primer modelo."
      ]
    },
    {
      "cell_type": "markdown",
      "metadata": {
        "id": "D3jpBySMrBtS",
        "colab_type": "text"
      },
      "source": [
        "# Modelos de redes neuronales\n"
      ]
    },
    {
      "cell_type": "code",
      "metadata": {
        "id": "0QyNG6flItK-",
        "colab_type": "code",
        "colab": {}
      },
      "source": [
        "kfold = KFold(5, True, 1)\n",
        "\n",
        "score_training = []\n",
        "score_testing = []\n",
        "\n",
        "for i in range(1,4):\n",
        "  m = MLPClassifier(activation='relu', \n",
        "                    hidden_layer_sizes=(i,), \n",
        "                    random_state=1, \n",
        "                    shuffle=True,\n",
        "                    warm_start=True,\n",
        "                    max_iter=10000)\n",
        "  score_train = 0\n",
        "  score_test = 0\n",
        "\n",
        "  for train, test in kfold.split(X_train):\n",
        "    X_tr = X_train[train]\n",
        "    y_tr = y_train[train]\n",
        "    X_te = X_train[test]\n",
        "    y_te = y_train[test]\n",
        "\n",
        "    m.fit(X_tr,y_tr)\n",
        "    score_train += m.score(X_tr, y_tr)\n",
        "    score_test += m.score(X_te, y_te)\n",
        "  score_training.append(score_train/5)\n",
        "  score_testing.append(score_test/5)\n",
        "    \n",
        "    "
      ],
      "execution_count": 0,
      "outputs": []
    },
    {
      "cell_type": "code",
      "metadata": {
        "id": "rgvATnQJbDaJ",
        "colab_type": "code",
        "colab": {
          "base_uri": "https://localhost:8080/",
          "height": 142
        },
        "outputId": "8e90a4b0-0a74-48a6-ee0f-7ec863ad4927"
      },
      "source": [
        "numero_neuronas = list(range(1,4))\n",
        "df2 = pd.DataFrame()\n",
        "df2.insert(0,\"Neuronas capa oculta\", numero_neuronas, 2)\n",
        "df2.insert(1,\"Entrenamiento\", score_training, 2)\n",
        "df2.insert(2,\"Prueba\", score_testing, 2)\n",
        "df2"
      ],
      "execution_count": 148,
      "outputs": [
        {
          "output_type": "execute_result",
          "data": {
            "text/html": [
              "<div>\n",
              "<style scoped>\n",
              "    .dataframe tbody tr th:only-of-type {\n",
              "        vertical-align: middle;\n",
              "    }\n",
              "\n",
              "    .dataframe tbody tr th {\n",
              "        vertical-align: top;\n",
              "    }\n",
              "\n",
              "    .dataframe thead th {\n",
              "        text-align: right;\n",
              "    }\n",
              "</style>\n",
              "<table border=\"1\" class=\"dataframe\">\n",
              "  <thead>\n",
              "    <tr style=\"text-align: right;\">\n",
              "      <th></th>\n",
              "      <th>Neuronas capa oculta</th>\n",
              "      <th>Entrenamiento</th>\n",
              "      <th>Prueba</th>\n",
              "    </tr>\n",
              "  </thead>\n",
              "  <tbody>\n",
              "    <tr>\n",
              "      <th>0</th>\n",
              "      <td>1</td>\n",
              "      <td>0.997061</td>\n",
              "      <td>0.996881</td>\n",
              "    </tr>\n",
              "    <tr>\n",
              "      <th>1</th>\n",
              "      <td>2</td>\n",
              "      <td>0.997541</td>\n",
              "      <td>0.996881</td>\n",
              "    </tr>\n",
              "    <tr>\n",
              "      <th>2</th>\n",
              "      <td>3</td>\n",
              "      <td>0.996881</td>\n",
              "      <td>0.995682</td>\n",
              "    </tr>\n",
              "  </tbody>\n",
              "</table>\n",
              "</div>"
            ],
            "text/plain": [
              "   Neuronas capa oculta  Entrenamiento    Prueba\n",
              "0                     1       0.997061  0.996881\n",
              "1                     2       0.997541  0.996881\n",
              "2                     3       0.996881  0.995682"
            ]
          },
          "metadata": {
            "tags": []
          },
          "execution_count": 148
        }
      ]
    },
    {
      "cell_type": "code",
      "metadata": {
        "id": "yc_RIS6qdIBf",
        "colab_type": "code",
        "colab": {
          "base_uri": "https://localhost:8080/",
          "height": 464
        },
        "outputId": "8e5f88e1-971a-424f-8741-04f87f807ffe"
      },
      "source": [
        "g = pd.melt(df2,id_vars='Neuronas capa oculta')\n",
        "g.rename(columns = {'variable':'Score'}, inplace = True) \n",
        "ggplot(g, aes(x='Neuronas capa oculta', y='value', color='Score')) +\\\n",
        "geom_line()"
      ],
      "execution_count": 149,
      "outputs": [
        {
          "output_type": "display_data",
          "data": {
            "image/png": "[encoded data removed]",
            "text/plain": [
              "<Figure size 640x480 with 1 Axes>"
            ]
          },
          "metadata": {
            "tags": []
          }
        },
        {
          "output_type": "execute_result",
          "data": {
            "text/plain": [
              "<ggplot: (8764418184810)>"
            ]
          },
          "metadata": {
            "tags": []
          },
          "execution_count": 149
        }
      ]
    },
    {
      "cell_type": "markdown",
      "metadata": {
        "id": "vZ_fGgQSla9K",
        "colab_type": "text"
      },
      "source": [
        "Con base en esto podemos pensar que con 1 o 2 neuronas deberíamos de tener el mejor rendimiento de la red neuronal, probaremos entonces ambas configuraciones con el set de validación para verificar esta información"
      ]
    },
    {
      "cell_type": "markdown",
      "metadata": {
        "id": "N-f2TezY5Ri1",
        "colab_type": "text"
      },
      "source": [
        "# Entrenamiento modelos de red neuronal"
      ]
    },
    {
      "cell_type": "code",
      "metadata": {
        "id": "iJW3VrO45Tzl",
        "colab_type": "code",
        "colab": {}
      },
      "source": [
        "m1 = MLPClassifier(activation='relu', \n",
        "                    hidden_layer_sizes=(1,), \n",
        "                    random_state=1, \n",
        "                    shuffle=True,\n",
        "                    warm_start=True,\n",
        "                    max_iter=10000)\n",
        "\n",
        "m2 = MLPClassifier(activation='relu', \n",
        "                    hidden_layer_sizes=(2,), \n",
        "                    random_state=1, \n",
        "                    shuffle=True,\n",
        "                    warm_start=True,\n",
        "                    max_iter=10000)\n",
        "\n",
        "m1.fit(X_train.toarray(), y_train)\n",
        "y_validacion_pred1 = m1.predict(X_validacion.toarray())\n",
        "\n",
        "m2.fit(X_train.toarray(), y_train)\n",
        "y_validacion_pred2 = m2.predict(X_validacion.toarray())"
      ],
      "execution_count": 0,
      "outputs": []
    },
    {
      "cell_type": "markdown",
      "metadata": {
        "id": "3-IO02ie7mg9",
        "colab_type": "text"
      },
      "source": [
        "# Evaluación de los modelos de Redes neuronales"
      ]
    },
    {
      "cell_type": "code",
      "metadata": {
        "id": "gANjALAg7rQP",
        "colab_type": "code",
        "colab": {
          "base_uri": "https://localhost:8080/",
          "height": 516
        },
        "outputId": "e2c1a080-b97d-4294-a247-f7a02e53292a"
      },
      "source": [
        "disp = plot_confusion_matrix(m1, X_validacion.toarray(), y_validacion,\n",
        "                              display_labels=['ham','spam'],\n",
        "                              cmap=plt.cm.Greens,\n",
        "                              normalize=None, \n",
        "                              values_format = '.0f')\n",
        "disp.ax_.set_title('Matriz de la confusión')\n",
        "\n",
        "print(\"Red neuronal con una neurona en la capa oculta: \\n\")\n",
        "print ('Accuracy Score :',accuracy_score(y_validacion, y_validacion_pred1)) \n",
        "print ('Report : ')\n",
        "print (classification_report(y_validacion, y_validacion_pred1)) "
      ],
      "execution_count": 155,
      "outputs": [
        {
          "output_type": "stream",
          "text": [
            "Red neuronal con una neurona en la capa oculta: \n",
            "\n",
            "Accuracy Score : 0.9829181494661922\n",
            "Report : \n",
            "              precision    recall  f1-score   support\n",
            "\n",
            "         ham       0.99      0.99      0.99      1222\n",
            "        spam       0.96      0.91      0.93       183\n",
            "\n",
            "    accuracy                           0.98      1405\n",
            "   macro avg       0.97      0.95      0.96      1405\n",
            "weighted avg       0.98      0.98      0.98      1405\n",
            "\n"
          ],
          "name": "stdout"
        },
        {
          "output_type": "display_data",
          "data": {
            "image/png": "[encoded data removed]",
            "text/plain": [
              "<Figure size 432x288 with 2 Axes>"
            ]
          },
          "metadata": {
            "tags": []
          }
        }
      ]
    },
    {
      "cell_type": "code",
      "metadata": {
        "id": "kSTUC8Bs8C5m",
        "colab_type": "code",
        "colab": {
          "base_uri": "https://localhost:8080/",
          "height": 516
        },
        "outputId": "23896193-01c0-41e3-dcea-27c9dbc436cf"
      },
      "source": [
        "disp = plot_confusion_matrix(m2, X_validacion.toarray(), y_validacion,\n",
        "                              display_labels=['ham','spam'],\n",
        "                              cmap=plt.cm.Greens,\n",
        "                              normalize=None, \n",
        "                              values_format = '.0f')\n",
        "disp.ax_.set_title('Matriz de la confusión')\n",
        "\n",
        "print(\"Red neuronal con dos neuronas en la capa oculta: \\n\")\n",
        "print ('Accuracy Score :',accuracy_score(y_validacion, y_validacion_pred2)) \n",
        "print ('Report : ')\n",
        "print (classification_report(y_validacion, y_validacion_pred2)) "
      ],
      "execution_count": 156,
      "outputs": [
        {
          "output_type": "stream",
          "text": [
            "Red neuronal con dos neuronas en la capa oculta: \n",
            "\n",
            "Accuracy Score : 0.9836298932384342\n",
            "Report : \n",
            "              precision    recall  f1-score   support\n",
            "\n",
            "         ham       0.98      1.00      0.99      1222\n",
            "        spam       0.98      0.90      0.93       183\n",
            "\n",
            "    accuracy                           0.98      1405\n",
            "   macro avg       0.98      0.95      0.96      1405\n",
            "weighted avg       0.98      0.98      0.98      1405\n",
            "\n"
          ],
          "name": "stdout"
        },
        {
          "output_type": "display_data",
          "data": {
            "image/png": "[encoded data removed]",
            "text/plain": [
              "<Figure size 432x288 with 2 Axes>"
            ]
          },
          "metadata": {
            "tags": []
          }
        }
      ]
    },
    {
      "cell_type": "markdown",
      "metadata": {
        "id": "7HutZWTo8SJL",
        "colab_type": "text"
      },
      "source": [
        "Podemos apreciar como con dos neuronas se puede clasificar un poco mejor los $ham$, y el modelo con solo una neurona puede clasificar solo un poco mejor el $spam$."
      ]
    },
    {
      "cell_type": "markdown",
      "metadata": {
        "id": "wNxGUwAq-D-m",
        "colab_type": "text"
      },
      "source": [
        "# Conclusión\n",
        "Podemos apreciar como todos los modelos probados presentan un comportamiento similar, sin embargo si lo que queremos es clasificar la mayor cantidad de mensajes $ham$ correctamente, tenemos al segundo modelo de regresión logística como el ganador.\n"
      ]
    }
  ]
}